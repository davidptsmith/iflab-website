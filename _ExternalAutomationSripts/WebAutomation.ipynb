{
 "cells": [
  {
   "cell_type": "markdown",
   "metadata": {},
   "source": [
    "# Web page automation scripts for being lazy \n",
    "\n"
   ]
  },
  {
   "cell_type": "code",
   "execution_count": 2,
   "metadata": {},
   "outputs": [],
   "source": [
    "import os\n",
    "import shutil\n",
    "import re"
   ]
  },
  {
   "cell_type": "markdown",
   "metadata": {},
   "source": [
    "## Create a new markdown file for each directory \n",
    "\n",
    "To Do:  \n",
    "- Add adaption to not override the markdown file if it already exists   \n",
    "- Updated cover image - change path to \"public/projects/{project name}/coverimg.png\"  "
   ]
  },
  {
   "cell_type": "code",
   "execution_count": 3,
   "metadata": {},
   "outputs": [],
   "source": [
    "def listdirs(folder):\n",
    "    return [d for d in os.listdir(folder) if os.path.isdir(os.path.join(folder, d))]\n",
    "\n",
    "def copyMDFile(project_name, safe_name, directory):\n",
    "    #make a copy of the invoice to work with\n",
    "    src=\"./00 Scripts/template.md\"\n",
    "    dst= f'{directory}/{project_name}/{safe_name}.md'\n",
    "    shutil.copy(src,dst)\n",
    "\n",
    "    #Replace the text variable \n",
    "    newText = f'title: \"{project_name}\" \\n'\n",
    "    replace_line(dst, 1, newText)\n",
    " \n",
    "def replace_line(file_name, line_num, text):\n",
    "    lines = open(file_name, 'r').readlines()\n",
    "    lines[line_num] = text\n",
    "    out = open(file_name, 'w')\n",
    "    out.writelines(lines)\n",
    "    out.close()\n",
    "\n",
    "def replace_spaces(name):\n",
    "    new_string = re.sub(\"[^0-9a-zA-Z]+\", \"-\", name)\n",
    "    return new_string\n"
   ]
  },
  {
   "cell_type": "code",
   "execution_count": 4,
   "metadata": {},
   "outputs": [
    {
     "name": "stdout",
     "output_type": "stream",
     "text": [
      "AGWA\n",
      "Airport\n",
      "Barangaroo\n",
      "Bayswater FuBa\n",
      "Cottesloe Shade Structure\n",
      "Curtin Timber Pavilions\n",
      "Edgecumbe\n",
      "Housing Charrette\n",
      "Metronet Redcliffe\n",
      "PCL\n",
      "Perth Airport\n",
      "Prefabricated Chalets\n",
      "Pyramid\n",
      "Ravensthorpe\n",
      "Shelters WA\n",
      "South Hedland\n",
      "Anemoi\n",
      "Broome Tafe\n",
      "Carine SHS\n",
      "Cygna\n",
      "Duncan Street\n",
      "Esplanade\n",
      "Flow\n",
      "Goldcoast Greenbridge\n",
      "Hamilton St Artwork\n",
      "Kendrew TAFE\n",
      "Leederville Sq\n",
      "Metamorphosis\n",
      "Piara Waters\n",
      "Queenslea\n",
      "RAAFA\n",
      "The Crest\n",
      "Velocity\n",
      "Velocity Apartments\n",
      "Waterford\n",
      "Yachept Stage 2\n",
      "Yanchep Stage 1\n"
     ]
    }
   ],
   "source": [
    "directory = './2. DESIGN PROJECTS'\n",
    "  \n",
    "for project_name in listdirs(directory):\n",
    "    safe_name = replace_spaces(project_name)\n",
    "    copyMDFile(project_name, safe_name, directory)\n",
    "    print(project_name)\n",
    "\n",
    "directory = './3. ART PROJECTS'\n",
    "\n",
    "for project_name in listdirs(directory):\n",
    "    safe_name = replace_spaces(project_name)\n",
    "    copyMDFile(project_name, safe_name, directory)\n",
    "    print(project_name)\n",
    "  "
   ]
  },
  {
   "cell_type": "markdown",
   "metadata": {},
   "source": [
    "## Establish New Project\n",
    "\n",
    "Creates a new folder \n",
    "Ensures naming convention \n",
    "establishes naming \n"
   ]
  },
  {
   "cell_type": "code",
   "execution_count": 60,
   "metadata": {},
   "outputs": [],
   "source": [
    "\n",
    "def create_new_project(project_name,  isArtProject):\n",
    "    safe_name = replace_spaces(project_name)\n",
    "\n",
    "    if isArtProject:\n",
    "        directory = './3. ART PROJECTS'\n",
    "    else:\n",
    "        directory = './2. DESIGN PROJECTS'\n",
    "\n",
    "    project_path = f'{directory}/{project_name}'\n",
    "    os.mkdir(project_path)\n",
    "    copyMDFile(project_name, safe_name, directory)\n",
    "    create_empty_img_folder(project_path)\n",
    "\n",
    "\n",
    "def create_empty_img_folder(directory):\n",
    "    img_folder = f'{directory}/images'\n",
    "    try:\n",
    "        os.mkdir(img_folder)\n",
    "    except OSError:\n",
    "        print(\"File exists: \" + img_folder  )\n",
    "    \n"
   ]
  },
  {
   "cell_type": "markdown",
   "metadata": {},
   "source": [
    "# Add new project"
   ]
  },
  {
   "cell_type": "code",
   "execution_count": 61,
   "metadata": {},
   "outputs": [],
   "source": [
    "project_name = \"New Project - Replace me\"\n",
    "isArtProject = False; \n",
    "\n",
    "create_new_project(project_name , isArtProject)\n"
   ]
  },
  {
   "cell_type": "markdown",
   "metadata": {},
   "source": [
    "### Add image folder to projects"
   ]
  },
  {
   "cell_type": "code",
   "execution_count": null,
   "metadata": {},
   "outputs": [],
   "source": [
    "# Add images folder\n",
    "directory = './2. DESIGN PROJECTS'\n",
    "\n",
    "for project_name in listdirs(directory):\n",
    "    mydir = directory + \"/\" + project_name  + \"/\"\n",
    "    create_empty_img_folder(mydir)\n",
    "   \n",
    "\n",
    "directory = './3. ART PROJECTS'\n",
    "\n",
    "for project_name in listdirs(directory):\n",
    "    mydir = directory + \"/\" + project_name  + \"/\"\n",
    "    create_empty_img_folder(mydir)\n",
    "   "
   ]
  },
  {
   "cell_type": "markdown",
   "metadata": {},
   "source": [
    "## Delete all markdown files in directors "
   ]
  },
  {
   "cell_type": "code",
   "execution_count": null,
   "metadata": {},
   "outputs": [],
   "source": [
    "# directory = './2. DESIGN PROJECTS'\n",
    "\n",
    "# for project_name in listdirs(directory):\n",
    "#     mydir = directory + \"/\" + project_name  + \"/\"\n",
    "#     filelist = [f for f in os.listdir(mydir) if f.endswith(\".md\") ]\n",
    "#     #if f ends with .bak: change this to any file entension\n",
    "#     for f in filelist:\n",
    "#         print(f)\n",
    "#         os.remove(os.path.join(mydir, f))\n",
    "\n",
    "# directory = './3. ART PROJECTS'\n",
    "\n",
    "# for project_name in listdirs(directory):\n",
    "#     mydir = directory + \"/\" + project_name  + \"/\"\n",
    "#     filelist = [f for f in os.listdir(mydir) if f.endswith(\".md\") ]\n",
    "#     #if f ends with .bak: change this to any file entension\n",
    "#     for f in filelist:\n",
    "#         print(f)\n",
    "#         os.remove(os.path.join(mydir, f))"
   ]
  },
  {
   "cell_type": "markdown",
   "metadata": {},
   "source": [
    "## Copy MD Files to Current Project \n"
   ]
  },
  {
   "cell_type": "code",
   "execution_count": 5,
   "metadata": {},
   "outputs": [],
   "source": [
    "target_path = \"C:/Users/david/Dropbox/00 MyFiles/00 Dev/04 IfLab Website/iflab-website-v2/projects\"\n",
    "\n",
    "directory = './2. DESIGN PROJECTS'\n",
    "\n",
    "for project_name in listdirs(directory):\n",
    "    mydir = directory + \"/\" + project_name  + \"/\"\n",
    "    filelist = [f for f in os.listdir(mydir) if f.endswith(\".md\") ]\n",
    "    #if f ends with .bak: change this to any file entension\n",
    "    for f in filelist:\n",
    "        src = f'{mydir}/{f}'\n",
    "\n",
    "        dst= f'{target_path}/{f}'\n",
    "        shutil.copy(src,dst)\n",
    "\n",
    "\n",
    "directory = './3. ART PROJECTS'\n",
    "\n",
    "for project_name in listdirs(directory):\n",
    "    mydir = directory + \"/\" + project_name  + \"/\"\n",
    "    filelist = [f for f in os.listdir(mydir) if f.endswith(\".md\") ]\n",
    "    #if f ends with .bak: change this to any file entension\n",
    "    for f in filelist:\n",
    "        src = f'{mydir}/{f}'\n",
    "\n",
    "        dst= f'{target_path}/{f}'\n",
    "        shutil.copy(src,dst)\n",
    "\n"
   ]
  },
  {
   "cell_type": "markdown",
   "metadata": {},
   "source": [
    "## Copy Image Folders "
   ]
  },
  {
   "cell_type": "code",
   "execution_count": 13,
   "metadata": {},
   "outputs": [
    {
     "name": "stdout",
     "output_type": "stream",
     "text": [
      "C:/Users/david/Dropbox/00 MyFiles/00 Dev/04 IfLab Website/iflab-website-v2/public/images/projects/AGWAdid not work - file exists or could not make file\n",
      "C:/Users/david/Dropbox/00 MyFiles/00 Dev/04 IfLab Website/iflab-website-v2/public/images/projects/Airportdid not work - file exists or could not make file\n",
      "C:/Users/david/Dropbox/00 MyFiles/00 Dev/04 IfLab Website/iflab-website-v2/public/images/projects/Barangaroodid not work - file exists or could not make file\n",
      "C:/Users/david/Dropbox/00 MyFiles/00 Dev/04 IfLab Website/iflab-website-v2/public/images/projects/Bayswater FuBadid not work - file exists or could not make file\n",
      "C:/Users/david/Dropbox/00 MyFiles/00 Dev/04 IfLab Website/iflab-website-v2/public/images/projects/Cottesloe Shade Structuredid not work - file exists or could not make file\n",
      "C:/Users/david/Dropbox/00 MyFiles/00 Dev/04 IfLab Website/iflab-website-v2/public/images/projects/Curtin Timber Pavilionsdid not work - file exists or could not make file\n",
      "C:/Users/david/Dropbox/00 MyFiles/00 Dev/04 IfLab Website/iflab-website-v2/public/images/projects/Edgecumbedid not work - file exists or could not make file\n",
      "C:/Users/david/Dropbox/00 MyFiles/00 Dev/04 IfLab Website/iflab-website-v2/public/images/projects/Housing Charrettedid not work - file exists or could not make file\n",
      "C:/Users/david/Dropbox/00 MyFiles/00 Dev/04 IfLab Website/iflab-website-v2/public/images/projects/Metronet Redcliffedid not work - file exists or could not make file\n",
      "C:/Users/david/Dropbox/00 MyFiles/00 Dev/04 IfLab Website/iflab-website-v2/public/images/projects/PCLdid not work - file exists or could not make file\n",
      "C:/Users/david/Dropbox/00 MyFiles/00 Dev/04 IfLab Website/iflab-website-v2/public/images/projects/Perth Airportdid not work - file exists or could not make file\n",
      "C:/Users/david/Dropbox/00 MyFiles/00 Dev/04 IfLab Website/iflab-website-v2/public/images/projects/Prefabricated Chaletsdid not work - file exists or could not make file\n",
      "C:/Users/david/Dropbox/00 MyFiles/00 Dev/04 IfLab Website/iflab-website-v2/public/images/projects/Pyramiddid not work - file exists or could not make file\n",
      "C:/Users/david/Dropbox/00 MyFiles/00 Dev/04 IfLab Website/iflab-website-v2/public/images/projects/Ravensthorpedid not work - file exists or could not make file\n",
      "C:/Users/david/Dropbox/00 MyFiles/00 Dev/04 IfLab Website/iflab-website-v2/public/images/projects/Shelters WAdid not work - file exists or could not make file\n",
      "C:/Users/david/Dropbox/00 MyFiles/00 Dev/04 IfLab Website/iflab-website-v2/public/images/projects/South Hedlanddid not work - file exists or could not make file\n",
      "C:/Users/david/Dropbox/00 MyFiles/00 Dev/04 IfLab Website/iflab-website-v2/public/images/projects/Anemoidid not work - file exists or could not make file\n",
      "C:/Users/david/Dropbox/00 MyFiles/00 Dev/04 IfLab Website/iflab-website-v2/public/images/projects/Broome Tafedid not work - file exists or could not make file\n",
      "C:/Users/david/Dropbox/00 MyFiles/00 Dev/04 IfLab Website/iflab-website-v2/public/images/projects/Carine SHSdid not work - file exists or could not make file\n",
      "C:/Users/david/Dropbox/00 MyFiles/00 Dev/04 IfLab Website/iflab-website-v2/public/images/projects/Cygnadid not work - file exists or could not make file\n",
      "C:/Users/david/Dropbox/00 MyFiles/00 Dev/04 IfLab Website/iflab-website-v2/public/images/projects/Duncan Streetdid not work - file exists or could not make file\n",
      "C:/Users/david/Dropbox/00 MyFiles/00 Dev/04 IfLab Website/iflab-website-v2/public/images/projects/Esplanadedid not work - file exists or could not make file\n",
      "C:/Users/david/Dropbox/00 MyFiles/00 Dev/04 IfLab Website/iflab-website-v2/public/images/projects/Flowdid not work - file exists or could not make file\n",
      "C:/Users/david/Dropbox/00 MyFiles/00 Dev/04 IfLab Website/iflab-website-v2/public/images/projects/Goldcoast Greenbridgedid not work - file exists or could not make file\n",
      "C:/Users/david/Dropbox/00 MyFiles/00 Dev/04 IfLab Website/iflab-website-v2/public/images/projects/Hamilton St Artworkdid not work - file exists or could not make file\n",
      "C:/Users/david/Dropbox/00 MyFiles/00 Dev/04 IfLab Website/iflab-website-v2/public/images/projects/Kendrew TAFEdid not work - file exists or could not make file\n",
      "C:/Users/david/Dropbox/00 MyFiles/00 Dev/04 IfLab Website/iflab-website-v2/public/images/projects/Leederville Sqdid not work - file exists or could not make file\n",
      "C:/Users/david/Dropbox/00 MyFiles/00 Dev/04 IfLab Website/iflab-website-v2/public/images/projects/Metamorphosisdid not work - file exists or could not make file\n",
      "C:/Users/david/Dropbox/00 MyFiles/00 Dev/04 IfLab Website/iflab-website-v2/public/images/projects/Piara Watersdid not work - file exists or could not make file\n",
      "C:/Users/david/Dropbox/00 MyFiles/00 Dev/04 IfLab Website/iflab-website-v2/public/images/projects/Queensleadid not work - file exists or could not make file\n",
      "C:/Users/david/Dropbox/00 MyFiles/00 Dev/04 IfLab Website/iflab-website-v2/public/images/projects/RAAFAdid not work - file exists or could not make file\n",
      "C:/Users/david/Dropbox/00 MyFiles/00 Dev/04 IfLab Website/iflab-website-v2/public/images/projects/The Crestdid not work - file exists or could not make file\n",
      "C:/Users/david/Dropbox/00 MyFiles/00 Dev/04 IfLab Website/iflab-website-v2/public/images/projects/Velocitydid not work - file exists or could not make file\n",
      "C:/Users/david/Dropbox/00 MyFiles/00 Dev/04 IfLab Website/iflab-website-v2/public/images/projects/Velocity Apartmentsdid not work - file exists or could not make file\n",
      "C:/Users/david/Dropbox/00 MyFiles/00 Dev/04 IfLab Website/iflab-website-v2/public/images/projects/Waterforddid not work - file exists or could not make file\n",
      "C:/Users/david/Dropbox/00 MyFiles/00 Dev/04 IfLab Website/iflab-website-v2/public/images/projects/Yachept Stage 2did not work - file exists or could not make file\n",
      "C:/Users/david/Dropbox/00 MyFiles/00 Dev/04 IfLab Website/iflab-website-v2/public/images/projects/Yanchep Stage 1did not work - file exists or could not make file\n"
     ]
    }
   ],
   "source": [
    "target_path = \"C:/Users/david/Dropbox/00 MyFiles/00 Dev/04 IfLab Website/iflab-website-v2/public/images/projects\"\n",
    "\n",
    "directory = './2. DESIGN PROJECTS'\n",
    "\n",
    "for project_name in listdirs(directory):\n",
    "    mydir = directory + \"/\" + project_name  + \"/\" + \"images\"\n",
    "    filelist = [f for f in os.listdir(mydir)]\n",
    "    #if f ends with .bak: change this to any file entension\n",
    "    for f in filelist:\n",
    "        src = f'{mydir}/{f}'\n",
    "        dst_directory= f'{target_path}/{project_name}'\n",
    "        try:\n",
    "             os.mkdir(dst_directory)\n",
    "        except OSError:\n",
    "             print(dst_directory +  \"did not work - file exists or could not make file\")\n",
    "\n",
    "        dst_file = dst_directory + \"/\" + f\n",
    "\n",
    "        shutil.copy(src,dst_file)\n",
    "\n",
    "\n",
    "\n",
    "directory = './3. ART PROJECTS'\n",
    "\n",
    "for project_name in listdirs(directory):\n",
    "    mydir = directory + \"/\" + project_name  + \"/\" + \"images\"\n",
    "    filelist = [f for f in os.listdir(mydir)]\n",
    "    #if f ends with .bak: change this to any file entension\n",
    "    for f in filelist:\n",
    "        src = f'{mydir}/{f}'\n",
    "        dst_directory= f'{target_path}/{project_name}'\n",
    "        try:\n",
    "             os.mkdir(dst_directory)\n",
    "        except OSError:\n",
    "             print(dst_directory +  \"did not work - file exists or could not make file\")\n",
    "\n",
    "        dst_file = dst_directory + \"/\" + f\n",
    "\n",
    "        shutil.copy(src,dst_file)\n",
    "\n"
   ]
  },
  {
   "cell_type": "markdown",
   "metadata": {},
   "source": [
    "## REQUIRED FUNCTIONS: \n",
    "\n",
    "- replacing image sources from the local image folder to the public folder \n"
   ]
  },
  {
   "cell_type": "markdown",
   "metadata": {},
   "source": [
    "# Blog Management "
   ]
  },
  {
   "cell_type": "markdown",
   "metadata": {},
   "source": [
    "## Work Doc Rules Template & Guide\n",
    "\n",
    "### Card Image \n",
    "- Place an image before the heading block. \n",
    "\n",
    "### Heading Block \n",
    "- Do not put anything except the image before the heading block. This will cause the markdown file to not consider this the yaml info and will display it on the website. \n",
    "- Heading must start with // then contain values the end with //\n",
    "\n",
    "### Section Headings \n",
    "- Use 'Heading 2' or lower for section headings\n",
    "\n",
    "### Font Decorators \n",
    "- Bold, underline and italics work as normal, just format the text in word and it will come through. \n",
    "- Font size, colour etc will not come through \n",
    "\n",
    "### Images & Captions\n",
    "- Image captions must start with a '[' and have  new line between the image and the caption. \n",
    "- Right click the image in word, click add caption, write caption between '[]' \n",
    "\n",
    "### Youtube links \n",
    "- YOUTUBE: must be in all caps \n",
    "- Links must be hyperlinks in word. If it is text, select the text, right click, click link, this should then show the url in the link, press enter. This will convert it to a hyperlink. This is needed as I use the converted html tags to replace with correct formatting. \n",
    "\n",
    "### Quotes \n",
    "\n"
   ]
  },
  {
   "cell_type": "markdown",
   "metadata": {},
   "source": [
    "## Imports & Setup"
   ]
  },
  {
   "cell_type": "code",
   "execution_count": 57,
   "metadata": {},
   "outputs": [],
   "source": [
    "from importlib.resources import path\n",
    "from os import mkdir\n",
    "import shutil\n",
    "from re import DOTALL\n",
    "import regex as re\n",
    "\n",
    "## Path used \n",
    "input_path = \"../MarkdownFiles/posts/Docs\"\n",
    "output_path = \"../MarkdownFiles/posts/\"\n",
    "image_output_path = \"../MarkdownFiles/posts/images/posts\"\n"
   ]
  },
  {
   "cell_type": "markdown",
   "metadata": {},
   "source": [
    "## Convert blog posts from word to MD\n",
    "\n",
    "**To Do:** \n",
    "- Add cover image function to create in heading \n",
    "- Remove .png as they will be converted to jpg one batch compression \n",
    "- Create function to find gifs and replace the .jpg when they get batched. "
   ]
  },
  {
   "cell_type": "code",
   "execution_count": 54,
   "metadata": {},
   "outputs": [],
   "source": [
    "def create_post_filename(string:str):\n",
    "    filename = re.sub(\"[^0-9a-zA-Z]+\", \"_\", os.path.splitext(string)[0]) \n",
    "    extensions = os.path.splitext(string)[1]\n",
    "    return  filename  + extensions \n",
    "\n",
    "def create_dirs(path: str):\n",
    "    if not os.path.exists(path):\n",
    "        os.mkdir(path )\n",
    "\n",
    "def find_header(text):\n",
    "    p = re.compile('//.*?//',flags=DOTALL)\n",
    "    return p.findall(text)\n",
    "\n",
    "def replace_slashes(text):\n",
    "    split = text.split(\"\\n\")\n",
    "    out = []\n",
    "    for s in split: \n",
    "        s = s.replace(\"\\\\\" , \"\" )\n",
    "        s = s.replace(\"//\" , \"---\" )\n",
    "        out.append(s)\n",
    "    return \"\\n\".join(out)\n",
    "\n",
    "def clean_header_info(text): \n",
    "    results = find_header(text)\n",
    "    if len(results) > 0:\n",
    "            result = results[0]\n",
    "            new_header = replace_slashes(result)\n",
    "            text = text.replace(result , new_header)\n",
    "            return text\n",
    "    else:\n",
    "        print(\"could not find header\")\n",
    "\n",
    "def add_image_caption(text):\n",
    "    splits = text.split(\"\\n\")\n",
    "    out = []\n",
    "    for i , split in enumerate(splits):\n",
    "        if split == \"</figure>\":\n",
    "            if i + 2 < len(splits) and str(splits[i + 2]).startswith(\"\\[\"):\n",
    "                caption_text = str(splits[i + 2]).replace(\"\\]\", \"\")\n",
    "                caption_text = caption_text.replace(\"\\[\", \"\")\n",
    "                split = f'\\t<figcaption class=\"mx-auto text-center\">\\n\\t\\t{caption_text}\\n\\t</figcaption>\\n</figure>'\n",
    "                splits[i + 2] = \"\"\n",
    "        out.append(split)\n",
    "    return \"\\n\".join(out)\n",
    "\n",
    "def replace_image_text(text , post_title):\n",
    "    text = re.sub('style=\".*? />', f'class=\"mx-auto w-full object-cover m-0\" alt=\"if/Lab Project image for {post_title.replace(\"_\", \" \")}\" />', text)\n",
    "    p= re.compile('<img src=\".*? />')\n",
    "    results = p.findall(text)\n",
    "    if len(results) < 1:\n",
    "        return text\n",
    "    for result in results:\n",
    "        image_text = result.replace(\"\\\\\" , \"/\")\n",
    "        image_text = image_text.replace(\"media/\", \"\")\n",
    "        image_text=re.sub('/image', f'/{post_title}_', image_text)\n",
    "        image_text=re.sub('src.*posts/', 'src=\"/images/posts/', image_text)\n",
    "        image_text = '<figure  class=\"mx-auto w-full \">\\n\\t' + image_text + '\\n</figure>'\n",
    "        image_text= image_text.replace(\".jpeg\" , \".jpg\")\n",
    "        image_text= image_text.replace(\".png\", \".jpg\")\n",
    "        text = text.replace(result, image_text)\n",
    "    return text\n",
    "\n",
    "def handle_cover_image_path(text, project_title):\n",
    "    image_split = text.split(\"---\")[0]\n",
    "    text = text.replace(image_split , \"\")\n",
    "    text = re.sub(\"cover_image:.*?\\n\" , f\"cover_image: /images/{project_title}/cover_image.jpg \\n\", text)\n",
    "    return text\n",
    "\n",
    "def replace_youtube_text(text):\n",
    "    p= re.compile('YOUTUBE:.*?>')\n",
    "    results = p.findall(text)\n",
    "    if len(results) < 1:\n",
    "        return text\n",
    "    for result in results:\n",
    "        r=re.sub('YOUTUBE:.*?v=','',result)\n",
    "        r = r.replace(\">\", \"\")\n",
    "        youtube_text = f'<div >\\n\\t<iframe class=\"VideoMD\"  src=\"https://www.youtube.com/embed/{r}\" title=\"If/Lab YouTube Video Player\" frameborder=\"0\" allow=\"accelerometer; autoplay; clipboard-write; encrypted-media; gyroscope; picture-in-picture\" allowfullscreen></iframe>\\n</div>'\n",
    "        text = text.replace(result, youtube_text)\n",
    "    return text\n",
    "    \n",
    "def clean_body_text(text , post_title):\n",
    "    text = replace_image_text(text , post_title)\n",
    "    text = add_image_caption(text)\n",
    "    text = replace_youtube_text(text)\n",
    "    return text\n",
    "\n",
    "def save_markdown_file(path, text):\n",
    "    with open(path, \"w\" , encoding=\"utf8\") as text_file:\n",
    "        text_file.write(text)\n",
    "        print(f\"saved file to {path}\")\n",
    "\n",
    "def get_md_text(path):\n",
    "    with open(path , \"r\", encoding=\"utf8\") as f:\n",
    "        data = f.readlines()\n",
    "    return \"\".join(data) \n",
    "\n",
    "def clean_markdown_files(path , project_title):\n",
    "    text = get_md_text(path)\n",
    "    text = clean_header_info(text)\n",
    "    text = clean_body_text(text, project_title)\n",
    "    text = handle_cover_image_path(text, project_title)\n",
    "    save_markdown_file(path, text)\n",
    "\n"
   ]
  },
  {
   "cell_type": "markdown",
   "metadata": {},
   "source": [
    "## Convert Doc to MD files & rename images"
   ]
  },
  {
   "cell_type": "code",
   "execution_count": 39,
   "metadata": {},
   "outputs": [],
   "source": [
    "def validate_file(file):\n",
    "    return  os.path.splitext(file)[1] == \".docx\" \\\n",
    "            and os.path.splitext(file)[0] != \"template\" \\\n",
    "            and not os.path.splitext(file)[0].startswith(\"~\")\n",
    "\n",
    "def ensure_paths_exist(output_path, image_output_path):\n",
    "        create_dirs(f\"{output_path}/images\" )        \n",
    "        create_dirs(f\"./test_images\" )        \n",
    "        create_dirs(f\"{image_output_path}\" )  \n",
    "\n",
    "def create_paths(file):\n",
    "        cleaned_title = create_post_filename(file)\n",
    "        post_title = os.path.splitext(cleaned_title )[0]\n",
    "        doc_path = f'{input_path}/{file}'\n",
    "        md_path = f\"{output_path}/{post_title}.md\"\n",
    "        image_path = f\"{image_output_path}/{post_title}\" \n",
    "        return post_title , doc_path , md_path, image_path\n",
    "\n",
    "def reset_image_folder(image_path):\n",
    "    if os.path.exists(image_path):\n",
    "                shutil.rmtree(image_path, ignore_errors=True)\n",
    "    create_dirs(image_path )\n",
    "\n",
    "def rename_images(image_path, post_title):\n",
    "        media_path = image_path + \"/media\"\n",
    "        if os.path.exists(media_path):\n",
    "            for i, img in enumerate([f for f in sorted(os.listdir(media_path))]):\n",
    "                ext = os.path.splitext(img)[1]\n",
    "                if i == 0: \n",
    "                    shutil.copy( media_path + \"/\" + img , image_path + \"/\" + f\"cover_image{ext}\")\n",
    "                os.rename( media_path + \"/\" + img , image_path + \"/\" +f\"{post_title}_{i+1}{ext}\" )\n",
    "            os.rmdir(media_path)\n",
    "\n",
    "def convert_doc_to_md(doc_path, md_path, image_path):\n",
    "    !pandoc \"{doc_path}\" -f docx -t gfm -s -o \"{md_path}\"  --extract-media {image_path}\n",
    "    "
   ]
  },
  {
   "cell_type": "markdown",
   "metadata": {},
   "source": [
    "### Testing process"
   ]
  },
  {
   "cell_type": "code",
   "execution_count": 56,
   "metadata": {},
   "outputs": [],
   "source": [
    "# input_path = \"../MarkdownFiles/posts/Docs/testing/\"\n",
    "\n",
    "# filelist = [f for f in os.listdir(input_path)]\n",
    "# for file in filelist:\n",
    "#     if validate_file(file): \n",
    "#         post_title , doc_path , md_path, image_path = create_paths(file)\n",
    "#         reset_image_folder(image_path)\n",
    "#         convert_doc_to_md(doc_path, md_path, image_path)\n",
    "#         rename_images(image_path, post_title)\n",
    "#         clean_markdown_files(md_path , post_title)\n",
    "   \n",
    "   "
   ]
  },
  {
   "cell_type": "markdown",
   "metadata": {},
   "source": [
    "## Convert markdown files"
   ]
  },
  {
   "cell_type": "code",
   "execution_count": 59,
   "metadata": {},
   "outputs": [
    {
     "ename": "PermissionError",
     "evalue": "[WinError 32] The process cannot access the file because it is being used by another process: '../MarkdownFiles/posts/images/posts/Automated_Modeling_Drawings_from_Site_Measurements/media'",
     "output_type": "error",
     "traceback": [
      "\u001b[1;31m---------------------------------------------------------------------------\u001b[0m",
      "\u001b[1;31mPermissionError\u001b[0m                           Traceback (most recent call last)",
      "\u001b[1;32m~\\AppData\\Local\\Temp\\ipykernel_24060\\3121406787.py\u001b[0m in \u001b[0;36m<module>\u001b[1;34m\u001b[0m\n\u001b[0;32m      5\u001b[0m         \u001b[0mreset_image_folder\u001b[0m\u001b[1;33m(\u001b[0m\u001b[0mimage_path\u001b[0m\u001b[1;33m)\u001b[0m\u001b[1;33m\u001b[0m\u001b[1;33m\u001b[0m\u001b[0m\n\u001b[0;32m      6\u001b[0m         \u001b[0mconvert_doc_to_md\u001b[0m\u001b[1;33m(\u001b[0m\u001b[0mdoc_path\u001b[0m\u001b[1;33m,\u001b[0m \u001b[0mmd_path\u001b[0m\u001b[1;33m,\u001b[0m \u001b[0mimage_path\u001b[0m\u001b[1;33m)\u001b[0m\u001b[1;33m\u001b[0m\u001b[1;33m\u001b[0m\u001b[0m\n\u001b[1;32m----> 7\u001b[1;33m         \u001b[0mrename_images\u001b[0m\u001b[1;33m(\u001b[0m\u001b[0mimage_path\u001b[0m\u001b[1;33m,\u001b[0m \u001b[0mpost_title\u001b[0m\u001b[1;33m)\u001b[0m\u001b[1;33m\u001b[0m\u001b[1;33m\u001b[0m\u001b[0m\n\u001b[0m\u001b[0;32m      8\u001b[0m         \u001b[0mclean_markdown_files\u001b[0m\u001b[1;33m(\u001b[0m\u001b[0mmd_path\u001b[0m \u001b[1;33m,\u001b[0m \u001b[0mpost_title\u001b[0m\u001b[1;33m)\u001b[0m\u001b[1;33m\u001b[0m\u001b[1;33m\u001b[0m\u001b[0m\n\u001b[0;32m      9\u001b[0m \u001b[1;33m\u001b[0m\u001b[0m\n",
      "\u001b[1;32m~\\AppData\\Local\\Temp\\ipykernel_24060\\4168166867.py\u001b[0m in \u001b[0;36mrename_images\u001b[1;34m(image_path, post_title)\u001b[0m\n\u001b[0;32m     30\u001b[0m                     \u001b[0mshutil\u001b[0m\u001b[1;33m.\u001b[0m\u001b[0mcopy\u001b[0m\u001b[1;33m(\u001b[0m \u001b[0mmedia_path\u001b[0m \u001b[1;33m+\u001b[0m \u001b[1;34m\"/\"\u001b[0m \u001b[1;33m+\u001b[0m \u001b[0mimg\u001b[0m \u001b[1;33m,\u001b[0m \u001b[0mimage_path\u001b[0m \u001b[1;33m+\u001b[0m \u001b[1;34m\"/\"\u001b[0m \u001b[1;33m+\u001b[0m \u001b[1;34mf\"cover_image{ext}\"\u001b[0m\u001b[1;33m)\u001b[0m\u001b[1;33m\u001b[0m\u001b[1;33m\u001b[0m\u001b[0m\n\u001b[0;32m     31\u001b[0m                 \u001b[0mos\u001b[0m\u001b[1;33m.\u001b[0m\u001b[0mrename\u001b[0m\u001b[1;33m(\u001b[0m \u001b[0mmedia_path\u001b[0m \u001b[1;33m+\u001b[0m \u001b[1;34m\"/\"\u001b[0m \u001b[1;33m+\u001b[0m \u001b[0mimg\u001b[0m \u001b[1;33m,\u001b[0m \u001b[0mimage_path\u001b[0m \u001b[1;33m+\u001b[0m \u001b[1;34m\"/\"\u001b[0m \u001b[1;33m+\u001b[0m\u001b[1;34mf\"{post_title}_{i+1}{ext}\"\u001b[0m \u001b[1;33m)\u001b[0m\u001b[1;33m\u001b[0m\u001b[1;33m\u001b[0m\u001b[0m\n\u001b[1;32m---> 32\u001b[1;33m             \u001b[0mos\u001b[0m\u001b[1;33m.\u001b[0m\u001b[0mrmdir\u001b[0m\u001b[1;33m(\u001b[0m\u001b[0mmedia_path\u001b[0m\u001b[1;33m)\u001b[0m\u001b[1;33m\u001b[0m\u001b[1;33m\u001b[0m\u001b[0m\n\u001b[0m\u001b[0;32m     33\u001b[0m \u001b[1;33m\u001b[0m\u001b[0m\n\u001b[0;32m     34\u001b[0m \u001b[1;32mdef\u001b[0m \u001b[0mconvert_doc_to_md\u001b[0m\u001b[1;33m(\u001b[0m\u001b[0mdoc_path\u001b[0m\u001b[1;33m,\u001b[0m \u001b[0mmd_path\u001b[0m\u001b[1;33m,\u001b[0m \u001b[0mimage_path\u001b[0m\u001b[1;33m)\u001b[0m\u001b[1;33m:\u001b[0m\u001b[1;33m\u001b[0m\u001b[1;33m\u001b[0m\u001b[0m\n",
      "\u001b[1;31mPermissionError\u001b[0m: [WinError 32] The process cannot access the file because it is being used by another process: '../MarkdownFiles/posts/images/posts/Automated_Modeling_Drawings_from_Site_Measurements/media'"
     ]
    }
   ],
   "source": [
    "\n",
    "filelist = [f for f in os.listdir(input_path)]\n",
    "for file in filelist:\n",
    "    if validate_file(file): \n",
    "        post_title , doc_path , md_path, image_path = create_paths(file)\n",
    "        reset_image_folder(image_path)\n",
    "        convert_doc_to_md(doc_path, md_path, image_path)\n",
    "        rename_images(image_path, post_title)\n",
    "        clean_markdown_files(md_path , post_title)\n",
    "   \n"
   ]
  },
  {
   "cell_type": "markdown",
   "metadata": {},
   "source": [
    "## Git Commit and push to production "
   ]
  },
  {
   "cell_type": "code",
   "execution_count": null,
   "metadata": {},
   "outputs": [],
   "source": [
    "import readline\n",
    "\n",
    "from requests_toolbelt import user_agent\n",
    "\n",
    "\n",
    "def push_to_production(): \n",
    "    !git checkout production; git merge main; git push; git checkout main; \n",
    "\n",
    "def git_commit_changes(msg: str): \n",
    "    !git add .; git commit -a -m \"{mgs}\"; git push; \n",
    "\n",
    "def preview_website():\n",
    "    print(\"Open web browser and Review website on LocalHost:3000.\\nUse ctr+C to end preview\")\n",
    "    !npm run dev\n",
    "\n",
    "\n",
    "def update_and_preview_website(msg: str):\n",
    "    ## Convert blog posts \n",
    "    ## Convert projects \n",
    "    ## Copy Blog posts and image over\n",
    "    git_commit_changes(msg)\n",
    "    preview_website()\n",
    "\n",
    "def updated_production_website(msg: str):\n",
    "    print(\"Are you sure you wish to push to production? Make sure you have reviewed the site first.\")\n",
    "    user_input = readline()\n",
    "    if user_input.lower() == \"y\":\n",
    "        push_to_production()"
   ]
  }
 ],
 "metadata": {
  "kernelspec": {
   "display_name": "Python 3.7.13",
   "language": "python",
   "name": "python3"
  },
  "language_info": {
   "codemirror_mode": {
    "name": "ipython",
    "version": 3
   },
   "file_extension": ".py",
   "mimetype": "text/x-python",
   "name": "python",
   "nbconvert_exporter": "python",
   "pygments_lexer": "ipython3",
   "version": "3.7.13"
  },
  "orig_nbformat": 4,
  "vscode": {
   "interpreter": {
    "hash": "5ee335893aa3d735ca4fe4a0020b5f65548d258845438bd27d57a3b6ff097931"
   }
  }
 },
 "nbformat": 4,
 "nbformat_minor": 2
}
