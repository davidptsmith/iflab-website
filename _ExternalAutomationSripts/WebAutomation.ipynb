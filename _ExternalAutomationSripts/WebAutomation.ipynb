{
 "cells": [
  {
   "cell_type": "markdown",
   "metadata": {},
   "source": [
    "# Web page automation scripts for being lazy \n",
    "\n"
   ]
  },
  {
   "cell_type": "code",
   "execution_count": 2,
   "metadata": {},
   "outputs": [],
   "source": [
    "import os\n",
    "import shutil\n",
    "import re"
   ]
  },
  {
   "cell_type": "markdown",
   "metadata": {},
   "source": [
    "## Create a new markdown file for each directory \n",
    "\n",
    "To Do:  \n",
    "- Add adaption to not override the markdown file if it already exists   \n",
    "- Updated cover image - change path to \"public/projects/{project name}/coverimg.png\"  "
   ]
  },
  {
   "cell_type": "code",
   "execution_count": 3,
   "metadata": {},
   "outputs": [],
   "source": [
    "def listdirs(folder):\n",
    "    return [d for d in os.listdir(folder) if os.path.isdir(os.path.join(folder, d))]\n",
    "\n",
    "def copyMDFile(project_name, safe_name, directory):\n",
    "    #make a copy of the invoice to work with\n",
    "    src=\"./00 Scripts/template.md\"\n",
    "    dst= f'{directory}/{project_name}/{safe_name}.md'\n",
    "    shutil.copy(src,dst)\n",
    "\n",
    "    #Replace the text variable \n",
    "    newText = f'title: \"{project_name}\" \\n'\n",
    "    replace_line(dst, 1, newText)\n",
    "    \n",
    "\n",
    "def replace_line(file_name, line_num, text):\n",
    "    lines = open(file_name, 'r').readlines()\n",
    "    lines[line_num] = text\n",
    "    out = open(file_name, 'w')\n",
    "    out.writelines(lines)\n",
    "    out.close()\n",
    "\n",
    "def replace_spaces(name):\n",
    "    new_string = re.sub(\"[^0-9a-zA-Z]+\", \"-\", name)\n",
    "    return new_string\n"
   ]
  },
  {
   "cell_type": "code",
   "execution_count": 4,
   "metadata": {},
   "outputs": [
    {
     "name": "stdout",
     "output_type": "stream",
     "text": [
      "AGWA\n",
      "Airport\n",
      "Barangaroo\n",
      "Bayswater FuBa\n",
      "Cottesloe Shade Structure\n",
      "Curtin Timber Pavilions\n",
      "Edgecumbe\n",
      "Housing Charrette\n",
      "Metronet Redcliffe\n",
      "PCL\n",
      "Perth Airport\n",
      "Prefabricated Chalets\n",
      "Pyramid\n",
      "Ravensthorpe\n",
      "Shelters WA\n",
      "South Hedland\n",
      "Anemoi\n",
      "Broome Tafe\n",
      "Carine SHS\n",
      "Cygna\n",
      "Duncan Street\n",
      "Esplanade\n",
      "Flow\n",
      "Goldcoast Greenbridge\n",
      "Hamilton St Artwork\n",
      "Kendrew TAFE\n",
      "Leederville Sq\n",
      "Metamorphosis\n",
      "Piara Waters\n",
      "Queenslea\n",
      "RAAFA\n",
      "The Crest\n",
      "Velocity\n",
      "Velocity Apartments\n",
      "Waterford\n",
      "Yachept Stage 2\n",
      "Yanchep Stage 1\n"
     ]
    }
   ],
   "source": [
    "directory = './2. DESIGN PROJECTS'\n",
    "  \n",
    "for project_name in listdirs(directory):\n",
    "    safe_name = replace_spaces(project_name)\n",
    "    copyMDFile(project_name, safe_name, directory)\n",
    "    print(project_name)\n",
    "\n",
    "directory = './3. ART PROJECTS'\n",
    "\n",
    "for project_name in listdirs(directory):\n",
    "    safe_name = replace_spaces(project_name)\n",
    "    copyMDFile(project_name, safe_name, directory)\n",
    "    print(project_name)\n",
    "  "
   ]
  },
  {
   "cell_type": "markdown",
   "metadata": {},
   "source": [
    "## Establish New Project\n",
    "\n",
    "Creates a new folder \n",
    "Ensures naming convention \n",
    "establishes naming \n"
   ]
  },
  {
   "cell_type": "code",
   "execution_count": 60,
   "metadata": {},
   "outputs": [],
   "source": [
    "\n",
    "def create_new_project(project_name,  isArtProject):\n",
    "    safe_name = replace_spaces(project_name)\n",
    "\n",
    "    if isArtProject:\n",
    "        directory = './3. ART PROJECTS'\n",
    "    else:\n",
    "        directory = './2. DESIGN PROJECTS'\n",
    "\n",
    "    project_path = f'{directory}/{project_name}'\n",
    "    os.mkdir(project_path)\n",
    "    copyMDFile(project_name, safe_name, directory)\n",
    "    create_empty_img_folder(project_path)\n",
    "\n",
    "\n",
    "def create_empty_img_folder(directory):\n",
    "    img_folder = f'{directory}/images'\n",
    "    try:\n",
    "        os.mkdir(img_folder)\n",
    "    except OSError:\n",
    "        print(\"File exists: \" + img_folder  )\n",
    "    \n"
   ]
  },
  {
   "cell_type": "markdown",
   "metadata": {},
   "source": [
    "# Add new project"
   ]
  },
  {
   "cell_type": "code",
   "execution_count": 61,
   "metadata": {},
   "outputs": [],
   "source": [
    "project_name = \"New Project - Replace me\"\n",
    "isArtProject = False; \n",
    "\n",
    "create_new_project(project_name , isArtProject)\n"
   ]
  },
  {
   "cell_type": "markdown",
   "metadata": {},
   "source": [
    "### Add image folder to projects"
   ]
  },
  {
   "cell_type": "code",
   "execution_count": null,
   "metadata": {},
   "outputs": [],
   "source": [
    "# Add images folder\n",
    "directory = './2. DESIGN PROJECTS'\n",
    "\n",
    "for project_name in listdirs(directory):\n",
    "    mydir = directory + \"/\" + project_name  + \"/\"\n",
    "    create_empty_img_folder(mydir)\n",
    "   \n",
    "\n",
    "directory = './3. ART PROJECTS'\n",
    "\n",
    "for project_name in listdirs(directory):\n",
    "    mydir = directory + \"/\" + project_name  + \"/\"\n",
    "    create_empty_img_folder(mydir)\n",
    "   "
   ]
  },
  {
   "cell_type": "markdown",
   "metadata": {},
   "source": [
    "## Delete all markdown files in directors "
   ]
  },
  {
   "cell_type": "code",
   "execution_count": 86,
   "metadata": {},
   "outputs": [
    {
     "name": "stdout",
     "output_type": "stream",
     "text": [
      "AGWA.md\n",
      "Airport.md\n",
      "Barangaroo.md\n",
      "Bayswater-FuBa.md\n",
      "Cottesloe-Shade-Structure.md\n",
      "Curtin-Timber-Pavilions.md\n",
      "Edgecumbe.md\n",
      "Housing-Charrette.md\n",
      "Metronet-Redcliffe.md\n",
      "PCL.md\n",
      "Perth-Airport.md\n",
      "Prefabricated-Chalets.md\n",
      "Pyramid.md\n",
      "Ravensthorpe.md\n",
      "Shelters-WA.md\n",
      "South-Hedland.md\n",
      "Anemoi.md\n",
      "Broome-Tafe.md\n",
      "Carine-SHS.md\n",
      "Cygna.md\n",
      "Duncan-Street.md\n",
      "Esplanade.md\n",
      "Flow.md\n",
      "Goldcoast-Greenbridge.md\n",
      "Hamilton-St-Artwork.md\n",
      "Kendrew-TAFE.md\n",
      "Leederville-Sq.md\n",
      "Metamorphosis.md\n",
      "Piara-Waters.md\n",
      "Queenslea.md\n",
      "RAAFA.md\n",
      "The-Crest.md\n",
      "Velocity.md\n",
      "Velocity-Apartments.md\n",
      "Waterford.md\n",
      "Yachept-Stage-2.md\n",
      "Yanchep-Stage-1.md\n"
     ]
    }
   ],
   "source": [
    "directory = './2. DESIGN PROJECTS'\n",
    "\n",
    "for project_name in listdirs(directory):\n",
    "    mydir = directory + \"/\" + project_name  + \"/\"\n",
    "    filelist = [f for f in os.listdir(mydir) if f.endswith(\".md\") ]\n",
    "    #if f ends with .bak: change this to any file entension\n",
    "    for f in filelist:\n",
    "        print(f)\n",
    "        os.remove(os.path.join(mydir, f))\n",
    "\n",
    "directory = './3. ART PROJECTS'\n",
    "\n",
    "for project_name in listdirs(directory):\n",
    "    mydir = directory + \"/\" + project_name  + \"/\"\n",
    "    filelist = [f for f in os.listdir(mydir) if f.endswith(\".md\") ]\n",
    "    #if f ends with .bak: change this to any file entension\n",
    "    for f in filelist:\n",
    "        print(f)\n",
    "        os.remove(os.path.join(mydir, f))"
   ]
  },
  {
   "cell_type": "markdown",
   "metadata": {},
   "source": [
    "## Copy MD Files to Current Project \n"
   ]
  },
  {
   "cell_type": "code",
   "execution_count": 5,
   "metadata": {},
   "outputs": [],
   "source": [
    "target_path = \"C:/Users/david/Dropbox/00 MyFiles/00 Dev/04 IfLab Website/iflab-website-v2/projects\"\n",
    "\n",
    "directory = './2. DESIGN PROJECTS'\n",
    "\n",
    "for project_name in listdirs(directory):\n",
    "    mydir = directory + \"/\" + project_name  + \"/\"\n",
    "    filelist = [f for f in os.listdir(mydir) if f.endswith(\".md\") ]\n",
    "    #if f ends with .bak: change this to any file entension\n",
    "    for f in filelist:\n",
    "        src = f'{mydir}/{f}'\n",
    "\n",
    "        dst= f'{target_path}/{f}'\n",
    "        shutil.copy(src,dst)\n",
    "\n",
    "\n",
    "directory = './3. ART PROJECTS'\n",
    "\n",
    "for project_name in listdirs(directory):\n",
    "    mydir = directory + \"/\" + project_name  + \"/\"\n",
    "    filelist = [f for f in os.listdir(mydir) if f.endswith(\".md\") ]\n",
    "    #if f ends with .bak: change this to any file entension\n",
    "    for f in filelist:\n",
    "        src = f'{mydir}/{f}'\n",
    "\n",
    "        dst= f'{target_path}/{f}'\n",
    "        shutil.copy(src,dst)\n",
    "\n"
   ]
  },
  {
   "cell_type": "markdown",
   "metadata": {},
   "source": [
    "## Copy Image Folders "
   ]
  },
  {
   "cell_type": "code",
   "execution_count": 13,
   "metadata": {},
   "outputs": [
    {
     "name": "stdout",
     "output_type": "stream",
     "text": [
      "C:/Users/david/Dropbox/00 MyFiles/00 Dev/04 IfLab Website/iflab-website-v2/public/images/projects/AGWAdid not work - file exists or could not make file\n",
      "C:/Users/david/Dropbox/00 MyFiles/00 Dev/04 IfLab Website/iflab-website-v2/public/images/projects/Airportdid not work - file exists or could not make file\n",
      "C:/Users/david/Dropbox/00 MyFiles/00 Dev/04 IfLab Website/iflab-website-v2/public/images/projects/Barangaroodid not work - file exists or could not make file\n",
      "C:/Users/david/Dropbox/00 MyFiles/00 Dev/04 IfLab Website/iflab-website-v2/public/images/projects/Bayswater FuBadid not work - file exists or could not make file\n",
      "C:/Users/david/Dropbox/00 MyFiles/00 Dev/04 IfLab Website/iflab-website-v2/public/images/projects/Cottesloe Shade Structuredid not work - file exists or could not make file\n",
      "C:/Users/david/Dropbox/00 MyFiles/00 Dev/04 IfLab Website/iflab-website-v2/public/images/projects/Curtin Timber Pavilionsdid not work - file exists or could not make file\n",
      "C:/Users/david/Dropbox/00 MyFiles/00 Dev/04 IfLab Website/iflab-website-v2/public/images/projects/Edgecumbedid not work - file exists or could not make file\n",
      "C:/Users/david/Dropbox/00 MyFiles/00 Dev/04 IfLab Website/iflab-website-v2/public/images/projects/Housing Charrettedid not work - file exists or could not make file\n",
      "C:/Users/david/Dropbox/00 MyFiles/00 Dev/04 IfLab Website/iflab-website-v2/public/images/projects/Metronet Redcliffedid not work - file exists or could not make file\n",
      "C:/Users/david/Dropbox/00 MyFiles/00 Dev/04 IfLab Website/iflab-website-v2/public/images/projects/PCLdid not work - file exists or could not make file\n",
      "C:/Users/david/Dropbox/00 MyFiles/00 Dev/04 IfLab Website/iflab-website-v2/public/images/projects/Perth Airportdid not work - file exists or could not make file\n",
      "C:/Users/david/Dropbox/00 MyFiles/00 Dev/04 IfLab Website/iflab-website-v2/public/images/projects/Prefabricated Chaletsdid not work - file exists or could not make file\n",
      "C:/Users/david/Dropbox/00 MyFiles/00 Dev/04 IfLab Website/iflab-website-v2/public/images/projects/Pyramiddid not work - file exists or could not make file\n",
      "C:/Users/david/Dropbox/00 MyFiles/00 Dev/04 IfLab Website/iflab-website-v2/public/images/projects/Ravensthorpedid not work - file exists or could not make file\n",
      "C:/Users/david/Dropbox/00 MyFiles/00 Dev/04 IfLab Website/iflab-website-v2/public/images/projects/Shelters WAdid not work - file exists or could not make file\n",
      "C:/Users/david/Dropbox/00 MyFiles/00 Dev/04 IfLab Website/iflab-website-v2/public/images/projects/South Hedlanddid not work - file exists or could not make file\n",
      "C:/Users/david/Dropbox/00 MyFiles/00 Dev/04 IfLab Website/iflab-website-v2/public/images/projects/Anemoidid not work - file exists or could not make file\n",
      "C:/Users/david/Dropbox/00 MyFiles/00 Dev/04 IfLab Website/iflab-website-v2/public/images/projects/Broome Tafedid not work - file exists or could not make file\n",
      "C:/Users/david/Dropbox/00 MyFiles/00 Dev/04 IfLab Website/iflab-website-v2/public/images/projects/Carine SHSdid not work - file exists or could not make file\n",
      "C:/Users/david/Dropbox/00 MyFiles/00 Dev/04 IfLab Website/iflab-website-v2/public/images/projects/Cygnadid not work - file exists or could not make file\n",
      "C:/Users/david/Dropbox/00 MyFiles/00 Dev/04 IfLab Website/iflab-website-v2/public/images/projects/Duncan Streetdid not work - file exists or could not make file\n",
      "C:/Users/david/Dropbox/00 MyFiles/00 Dev/04 IfLab Website/iflab-website-v2/public/images/projects/Esplanadedid not work - file exists or could not make file\n",
      "C:/Users/david/Dropbox/00 MyFiles/00 Dev/04 IfLab Website/iflab-website-v2/public/images/projects/Flowdid not work - file exists or could not make file\n",
      "C:/Users/david/Dropbox/00 MyFiles/00 Dev/04 IfLab Website/iflab-website-v2/public/images/projects/Goldcoast Greenbridgedid not work - file exists or could not make file\n",
      "C:/Users/david/Dropbox/00 MyFiles/00 Dev/04 IfLab Website/iflab-website-v2/public/images/projects/Hamilton St Artworkdid not work - file exists or could not make file\n",
      "C:/Users/david/Dropbox/00 MyFiles/00 Dev/04 IfLab Website/iflab-website-v2/public/images/projects/Kendrew TAFEdid not work - file exists or could not make file\n",
      "C:/Users/david/Dropbox/00 MyFiles/00 Dev/04 IfLab Website/iflab-website-v2/public/images/projects/Leederville Sqdid not work - file exists or could not make file\n",
      "C:/Users/david/Dropbox/00 MyFiles/00 Dev/04 IfLab Website/iflab-website-v2/public/images/projects/Metamorphosisdid not work - file exists or could not make file\n",
      "C:/Users/david/Dropbox/00 MyFiles/00 Dev/04 IfLab Website/iflab-website-v2/public/images/projects/Piara Watersdid not work - file exists or could not make file\n",
      "C:/Users/david/Dropbox/00 MyFiles/00 Dev/04 IfLab Website/iflab-website-v2/public/images/projects/Queensleadid not work - file exists or could not make file\n",
      "C:/Users/david/Dropbox/00 MyFiles/00 Dev/04 IfLab Website/iflab-website-v2/public/images/projects/RAAFAdid not work - file exists or could not make file\n",
      "C:/Users/david/Dropbox/00 MyFiles/00 Dev/04 IfLab Website/iflab-website-v2/public/images/projects/The Crestdid not work - file exists or could not make file\n",
      "C:/Users/david/Dropbox/00 MyFiles/00 Dev/04 IfLab Website/iflab-website-v2/public/images/projects/Velocitydid not work - file exists or could not make file\n",
      "C:/Users/david/Dropbox/00 MyFiles/00 Dev/04 IfLab Website/iflab-website-v2/public/images/projects/Velocity Apartmentsdid not work - file exists or could not make file\n",
      "C:/Users/david/Dropbox/00 MyFiles/00 Dev/04 IfLab Website/iflab-website-v2/public/images/projects/Waterforddid not work - file exists or could not make file\n",
      "C:/Users/david/Dropbox/00 MyFiles/00 Dev/04 IfLab Website/iflab-website-v2/public/images/projects/Yachept Stage 2did not work - file exists or could not make file\n",
      "C:/Users/david/Dropbox/00 MyFiles/00 Dev/04 IfLab Website/iflab-website-v2/public/images/projects/Yanchep Stage 1did not work - file exists or could not make file\n"
     ]
    }
   ],
   "source": [
    "target_path = \"C:/Users/david/Dropbox/00 MyFiles/00 Dev/04 IfLab Website/iflab-website-v2/public/images/projects\"\n",
    "\n",
    "directory = './2. DESIGN PROJECTS'\n",
    "\n",
    "for project_name in listdirs(directory):\n",
    "    mydir = directory + \"/\" + project_name  + \"/\" + \"images\"\n",
    "    filelist = [f for f in os.listdir(mydir)]\n",
    "    #if f ends with .bak: change this to any file entension\n",
    "    for f in filelist:\n",
    "        src = f'{mydir}/{f}'\n",
    "        dst_directory= f'{target_path}/{project_name}'\n",
    "        try:\n",
    "             os.mkdir(dst_directory)\n",
    "        except OSError:\n",
    "             print(dst_directory +  \"did not work - file exists or could not make file\")\n",
    "\n",
    "        dst_file = dst_directory + \"/\" + f\n",
    "\n",
    "        shutil.copy(src,dst_file)\n",
    "\n",
    "\n",
    "\n",
    "directory = './3. ART PROJECTS'\n",
    "\n",
    "for project_name in listdirs(directory):\n",
    "    mydir = directory + \"/\" + project_name  + \"/\" + \"images\"\n",
    "    filelist = [f for f in os.listdir(mydir)]\n",
    "    #if f ends with .bak: change this to any file entension\n",
    "    for f in filelist:\n",
    "        src = f'{mydir}/{f}'\n",
    "        dst_directory= f'{target_path}/{project_name}'\n",
    "        try:\n",
    "             os.mkdir(dst_directory)\n",
    "        except OSError:\n",
    "             print(dst_directory +  \"did not work - file exists or could not make file\")\n",
    "\n",
    "        dst_file = dst_directory + \"/\" + f\n",
    "\n",
    "        shutil.copy(src,dst_file)\n",
    "\n"
   ]
  },
  {
   "cell_type": "markdown",
   "metadata": {},
   "source": [
    "## REQUIRED FUNCTIONS: \n",
    "\n",
    "- replacing image sources from the local image folder to the public folder \n"
   ]
  },
  {
   "cell_type": "markdown",
   "metadata": {},
   "source": [
    "# Add 'ShowProject' to Markdown"
   ]
  },
  {
   "cell_type": "code",
   "execution_count": 17,
   "metadata": {},
   "outputs": [],
   "source": [
    "def add_show_prop_to_md(path):\n",
    "    # Load the file into file_content\n",
    "    file_content = [ line for line in open(path) ]\n",
    "\n",
    "    # Overwrite it\n",
    "    writer = open(path,'w')\n",
    "\n",
    "    for i , line in enumerate(file_content):\n",
    "        # We search for the correct section\n",
    "        if i == 2:\n",
    "            insert_string = \"ShowProject : true\\n\"\n",
    "            if line != insert_string:\n",
    "                print(f\"Added line to: {path}\")\n",
    "                writer.write(insert_string )\n",
    "            \n",
    "        # Re-write the file at each iteration\n",
    "        writer.write(line)\n",
    "\n",
    "    writer.close()"
   ]
  },
  {
   "cell_type": "code",
   "execution_count": 22,
   "metadata": {},
   "outputs": [
    {
     "name": "stdout",
     "output_type": "stream",
     "text": [
      "Added line to: ../posts/Automated-Shop-Drawings-Site-Measure.md\n",
      "Added line to: ../posts/Automated-Shop-Drawings.md\n",
      "Added line to: ../posts/CecilAve-PlaceLab.md\n",
      "Added line to: ../posts/Crest-Facade-Optimisation.md\n",
      "Added line to: ../posts/Crest-Video-Showcase.md\n",
      "Added line to: ../posts/Goldcoast-Arduino.md\n",
      "Added line to: ../posts/K-Factor-Grasshopper.md\n",
      "Added line to: ../posts/PCDG-Brian-Nelson.md\n",
      "Added line to: ../posts/PCDG-Charlie-Boman-Erica-Brett.md\n",
      "Added line to: ../posts/PCDG-Introduction.md\n",
      "Added line to: ../posts/Physics-based-Simulations.md\n",
      "Added line to: ../posts/QGIS-Grasshopper.md\n",
      "Added line to: ../posts/QGIS-Grasshopper2.md\n",
      "Added line to: ../posts/Rhino-Inventor.md\n"
     ]
    }
   ],
   "source": [
    "## add to local files \n",
    "# directory = '../projects'\n",
    "directory = '../posts'\n",
    "\n",
    "## Add to all files in source\n",
    "# directory = r'C:\\Users\\david\\Dropbox\\if_LAB Projects\\01_Outreach + Marketing\\2.Website\\MarkdownFiles\\posts'\n",
    "\n",
    "## Get all files \n",
    "filelist = [f for f in os.listdir(directory) if f.endswith(\".md\") ]\n",
    "\n",
    "## Add line to all files \n",
    "for f in filelist:\n",
    "    path = f\"{directory}/{f}\"\n",
    "    # print(path)\n",
    "    add_show_prop_to_md(path)\n",
    "        \n",
    "        "
   ]
  }
 ],
 "metadata": {
  "kernelspec": {
   "display_name": "Python 3.7.13",
   "language": "python",
   "name": "python3"
  },
  "language_info": {
   "codemirror_mode": {
    "name": "ipython",
    "version": 3
   },
   "file_extension": ".py",
   "mimetype": "text/x-python",
   "name": "python",
   "nbconvert_exporter": "python",
   "pygments_lexer": "ipython3",
   "version": "3.7.13"
  },
  "orig_nbformat": 4,
  "vscode": {
   "interpreter": {
    "hash": "5ee335893aa3d735ca4fe4a0020b5f65548d258845438bd27d57a3b6ff097931"
   }
  }
 },
 "nbformat": 4,
 "nbformat_minor": 2
}
